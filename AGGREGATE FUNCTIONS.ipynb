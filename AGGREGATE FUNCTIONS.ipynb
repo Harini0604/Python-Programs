{
 "cells": [
  {
   "cell_type": "code",
   "execution_count": 2,
   "id": "aaf04b7d",
   "metadata": {},
   "outputs": [
    {
     "data": {
      "text/plain": [
       "array([35, 85, 29, 59, 91, 87, 29, 53, 32, 63, 23, 77, 37, 31, 33, 93, 50,\n",
       "       76, 14, 32])"
      ]
     },
     "execution_count": 2,
     "metadata": {},
     "output_type": "execute_result"
    }
   ],
   "source": [
    "import numpy as np\n",
    "l=np.random.randint(10,100,20)\n",
    "l"
   ]
  },
  {
   "cell_type": "code",
   "execution_count": 3,
   "id": "48807b2e",
   "metadata": {},
   "outputs": [
    {
     "data": {
      "text/plain": [
       "1029"
      ]
     },
     "execution_count": 3,
     "metadata": {},
     "output_type": "execute_result"
    }
   ],
   "source": [
    "np.sum(l)"
   ]
  },
  {
   "cell_type": "code",
   "execution_count": 4,
   "id": "506e00ca",
   "metadata": {},
   "outputs": [
    {
     "name": "stdout",
     "output_type": "stream",
     "text": [
      "[477 811 126 584 732 890 689 758 159 843 333 976 320 565 574]\n"
     ]
    },
    {
     "data": {
      "text/plain": [
       "(8837, 126, 976)"
      ]
     },
     "execution_count": 4,
     "metadata": {},
     "output_type": "execute_result"
    }
   ],
   "source": [
    "big_array=np.random.randint(100,1000,15)\n",
    "print(big_array)\n",
    "big_array.sum(),big_array.min(),big_array.max()"
   ]
  },
  {
   "cell_type": "code",
   "execution_count": 8,
   "id": "28efb1f5",
   "metadata": {},
   "outputs": [
    {
     "name": "stdout",
     "output_type": "stream",
     "text": [
      "[[14 69 78 77]\n",
      " [85 33 34 19]\n",
      " [56 68 21 53]]\n"
     ]
    }
   ],
   "source": [
    "\n",
    "M=np.random.randint(10,100,(3,4))\n",
    "print(M)"
   ]
  },
  {
   "cell_type": "code",
   "execution_count": 9,
   "id": "d92217b3",
   "metadata": {},
   "outputs": [
    {
     "data": {
      "text/plain": [
       "(607, 14, 85)"
      ]
     },
     "execution_count": 9,
     "metadata": {},
     "output_type": "execute_result"
    }
   ],
   "source": [
    "M.sum(),M.min(),M.max()"
   ]
  },
  {
   "cell_type": "code",
   "execution_count": 10,
   "id": "8bd19d97",
   "metadata": {},
   "outputs": [
    {
     "data": {
      "text/plain": [
       "(array([155, 170, 133, 149]), array([14, 33, 21, 19]), array([85, 69, 78, 77]))"
      ]
     },
     "execution_count": 10,
     "metadata": {},
     "output_type": "execute_result"
    }
   ],
   "source": [
    "M.sum(axis=0),M.min(axis=0),M.max(axis=0)"
   ]
  },
  {
   "cell_type": "code",
   "execution_count": 11,
   "id": "63212f99",
   "metadata": {},
   "outputs": [
    {
     "data": {
      "text/plain": [
       "(array([238, 171, 198]), array([14, 19, 21]), array([78, 85, 68]))"
      ]
     },
     "execution_count": 11,
     "metadata": {},
     "output_type": "execute_result"
    }
   ],
   "source": [
    "M.sum(axis=1),M.min(axis=1),M.max(axis=1)"
   ]
  },
  {
   "cell_type": "code",
   "execution_count": 16,
   "id": "14ca39a6",
   "metadata": {},
   "outputs": [
    {
     "data": {
      "text/plain": [
       "280"
      ]
     },
     "execution_count": 16,
     "metadata": {},
     "output_type": "execute_result"
    }
   ],
   "source": [
    "np.product([[1,4],[7,10]])\n"
   ]
  },
  {
   "cell_type": "code",
   "execution_count": 18,
   "id": "9c73f43f",
   "metadata": {},
   "outputs": [
    {
     "data": {
      "text/plain": [
       "2.5"
      ]
     },
     "execution_count": 18,
     "metadata": {},
     "output_type": "execute_result"
    }
   ],
   "source": [
    "a=np.array([[1,2],[3,4]])\n",
    "np.mean(a)"
   ]
  },
  {
   "cell_type": "code",
   "execution_count": 19,
   "id": "03e54660",
   "metadata": {},
   "outputs": [
    {
     "data": {
      "text/plain": [
       "2.29128784747792"
      ]
     },
     "execution_count": 19,
     "metadata": {},
     "output_type": "execute_result"
    }
   ],
   "source": [
    "a=np.array([[1,2,3,4],[5,6,7,8]])\n",
    "np.std(a)"
   ]
  },
  {
   "cell_type": "code",
   "execution_count": 20,
   "id": "94233b5e",
   "metadata": {},
   "outputs": [
    {
     "data": {
      "text/plain": [
       "1.25"
      ]
     },
     "execution_count": 20,
     "metadata": {},
     "output_type": "execute_result"
    }
   ],
   "source": [
    "a=np.array([[1,2],[3,4]])\n",
    "np.var(a)"
   ]
  },
  {
   "cell_type": "code",
   "execution_count": null,
   "id": "3a5a5bea",
   "metadata": {},
   "outputs": [],
   "source": [
    "  n   "
   ]
  }
 ],
 "metadata": {
  "kernelspec": {
   "display_name": "Python 3 (ipykernel)",
   "language": "python",
   "name": "python3"
  },
  "language_info": {
   "codemirror_mode": {
    "name": "ipython",
    "version": 3
   },
   "file_extension": ".py",
   "mimetype": "text/x-python",
   "name": "python",
   "nbconvert_exporter": "python",
   "pygments_lexer": "ipython3",
   "version": "3.10.9"
  }
 },
 "nbformat": 4,
 "nbformat_minor": 5
}
