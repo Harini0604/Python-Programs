{
 "cells": [
  {
   "cell_type": "code",
   "execution_count": 1,
   "id": "df798be2",
   "metadata": {},
   "outputs": [
    {
     "name": "stdout",
     "output_type": "stream",
     "text": [
      "[2 3 4 5 7]\n"
     ]
    }
   ],
   "source": [
    "import numpy as np\n",
    "x=np.sort([3,2,4,5,7])\n",
    "print(x)"
   ]
  },
  {
   "cell_type": "code",
   "execution_count": 2,
   "id": "1704a3e8",
   "metadata": {},
   "outputs": [
    {
     "name": "stdout",
     "output_type": "stream",
     "text": [
      "[0 4 1 2 3]\n"
     ]
    }
   ],
   "source": [
    "i=np.argsort([0,3,5,7,1])\n",
    "print(i)"
   ]
  },
  {
   "cell_type": "code",
   "execution_count": 3,
   "id": "5c0a975c",
   "metadata": {},
   "outputs": [
    {
     "name": "stdout",
     "output_type": "stream",
     "text": [
      "[[5 1 6 1]\n",
      " [4 8 6 9]\n",
      " [7 0 3 3]]\n"
     ]
    }
   ],
   "source": [
    "a=np.random.RandomState(42)\n",
    "x=np.random.randint(0,10,(3,4))\n",
    "print(x)"
   ]
  },
  {
   "cell_type": "code",
   "execution_count": 5,
   "id": "00b12e23",
   "metadata": {},
   "outputs": [
    {
     "data": {
      "text/plain": [
       "array([[1, 1, 5, 6],\n",
       "       [4, 6, 8, 9],\n",
       "       [0, 3, 3, 7]])"
      ]
     },
     "execution_count": 5,
     "metadata": {},
     "output_type": "execute_result"
    }
   ],
   "source": [
    "np.sort(x,axis=1)"
   ]
  },
  {
   "cell_type": "code",
   "execution_count": 6,
   "id": "133a2563",
   "metadata": {},
   "outputs": [
    {
     "data": {
      "text/plain": [
       "array([[4, 0, 3, 1],\n",
       "       [5, 1, 6, 3],\n",
       "       [7, 8, 6, 9]])"
      ]
     },
     "execution_count": 6,
     "metadata": {},
     "output_type": "execute_result"
    }
   ],
   "source": [
    "np.sort(x,axis=0)"
   ]
  },
  {
   "cell_type": "code",
   "execution_count": 7,
   "id": "e2342023",
   "metadata": {},
   "outputs": [
    {
     "data": {
      "text/plain": [
       "array([[-6, -5, -1, -1],\n",
       "       [-9, -8, -6, -4],\n",
       "       [-7, -3, -3,  0]])"
      ]
     },
     "execution_count": 7,
     "metadata": {},
     "output_type": "execute_result"
    }
   ],
   "source": [
    "np.sort(-x)"
   ]
  },
  {
   "cell_type": "code",
   "execution_count": 8,
   "id": "e4a3c293",
   "metadata": {},
   "outputs": [
    {
     "data": {
      "text/plain": [
       "array([[-6, -5, -1, -1],\n",
       "       [-9, -8, -6, -4],\n",
       "       [-7, -3, -3,  0]])"
      ]
     },
     "execution_count": 8,
     "metadata": {},
     "output_type": "execute_result"
    }
   ],
   "source": [
    "np.sort(-x,axis=1)"
   ]
  },
  {
   "cell_type": "code",
   "execution_count": 9,
   "id": "2aa46fa9",
   "metadata": {},
   "outputs": [
    {
     "name": "stdout",
     "output_type": "stream",
     "text": [
      "['chennai' 'india' 'mumbai']\n"
     ]
    }
   ],
   "source": [
    "a=np.sort(['chennai','india','mumbai'])\n",
    "print(a)"
   ]
  },
  {
   "cell_type": "code",
   "execution_count": 11,
   "id": "103ae86d",
   "metadata": {},
   "outputs": [
    {
     "name": "stdout",
     "output_type": "stream",
     "text": [
      "['false' 'true' 'true']\n"
     ]
    }
   ],
   "source": [
    "a=np.sort(['true','false','true'])\n",
    "print(a)"
   ]
  },
  {
   "cell_type": "code",
   "execution_count": 12,
   "id": "84dd197d",
   "metadata": {},
   "outputs": [
    {
     "name": "stdout",
     "output_type": "stream",
     "text": [
      "[[1 2 3]\n",
      " [4 5 6]]\n"
     ]
    }
   ],
   "source": [
    "a=np.sort([[1,2,3],[4,5,6]])\n",
    "print(a)"
   ]
  },
  {
   "cell_type": "code",
   "execution_count": 14,
   "id": "76d404b8",
   "metadata": {},
   "outputs": [
    {
     "name": "stdout",
     "output_type": "stream",
     "text": [
      "2\n"
     ]
    }
   ],
   "source": [
    "arr=np.sort([2,3,4,5,6])\n",
    "print(arr[0])"
   ]
  },
  {
   "cell_type": "code",
   "execution_count": 16,
   "id": "6b6c2b02",
   "metadata": {},
   "outputs": [
    {
     "name": "stdout",
     "output_type": "stream",
     "text": [
      "8\n"
     ]
    }
   ],
   "source": [
    "arr=np.sort([2,3,4,5,6])\n",
    "print(arr[1]+arr[3])"
   ]
  },
  {
   "cell_type": "raw",
   "id": "22e8d075",
   "metadata": {},
   "source": [
    "arr=np.sort([[[1,2],[3,4]],[[5,6],[7,8]]])\n",
    "print(arr[0,1])"
   ]
  },
  {
   "cell_type": "code",
   "execution_count": 17,
   "id": "f9d3fa60",
   "metadata": {},
   "outputs": [
    {
     "name": "stdout",
     "output_type": "stream",
     "text": [
      "[3 4]\n"
     ]
    }
   ],
   "source": [
    "arr=np.sort([[[1,2],[3,4]],[[5,6],[7,8]]])\n",
    "print(arr[0,1])"
   ]
  },
  {
   "cell_type": "code",
   "execution_count": 19,
   "id": "37c4f00e",
   "metadata": {},
   "outputs": [
    {
     "name": "stdout",
     "output_type": "stream",
     "text": [
      "(array([], dtype=int64),)\n"
     ]
    }
   ],
   "source": [
    "obj=np.sort([12,90,380,12,211])\n",
    "print(np.where(obj<12))"
   ]
  },
  {
   "cell_type": "code",
   "execution_count": 20,
   "id": "30b7737d",
   "metadata": {},
   "outputs": [
    {
     "name": "stdout",
     "output_type": "stream",
     "text": [
      "[ 12  12  90 211 380]\n",
      "(array([0, 1, 2, 3, 4], dtype=int64),)\n"
     ]
    }
   ],
   "source": [
    "obj=np.sort([12,90,380,12,211])\n",
    "print(obj)\n",
    "print(obj.nonzero())"
   ]
  },
  {
   "cell_type": "code",
   "execution_count": null,
   "id": "d0f536fe",
   "metadata": {},
   "outputs": [],
   "source": []
  }
 ],
 "metadata": {
  "kernelspec": {
   "display_name": "Python 3 (ipykernel)",
   "language": "python",
   "name": "python3"
  },
  "language_info": {
   "codemirror_mode": {
    "name": "ipython",
    "version": 3
   },
   "file_extension": ".py",
   "mimetype": "text/x-python",
   "name": "python",
   "nbconvert_exporter": "python",
   "pygments_lexer": "ipython3",
   "version": "3.10.9"
  }
 },
 "nbformat": 4,
 "nbformat_minor": 5
}
